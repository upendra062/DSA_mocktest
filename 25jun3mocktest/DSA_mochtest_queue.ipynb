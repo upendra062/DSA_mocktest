{
 "cells": [
  {
   "attachments": {},
   "cell_type": "markdown",
   "metadata": {},
   "source": [
    "# Queue"
   ]
  },
  {
   "attachments": {},
   "cell_type": "markdown",
   "metadata": {},
   "source": [
    "We are familiar with queue in our daily life as we wait for a service.\n",
    "The queue data structure also means the same where the data elements are\n",
    "arranged in a queue. The uniqueness of queue lies in the way items are added\n",
    "and removed. The items are allowed at on end but removed from the other end. So\n",
    "it is a First-in-First out method."
   ]
  },
  {
   "attachments": {},
   "cell_type": "markdown",
   "metadata": {},
   "source": [
    "A queue can be implemented using python list where we can use insert() and pop() methods to add and remove elements. Their is no insertion as data elements are always added at the end of the queue."
   ]
  },
  {
   "cell_type": "code",
   "execution_count": null,
   "metadata": {},
   "outputs": [],
   "source": []
  },
  {
   "cell_type": "markdown",
   "metadata": {},
   "source": [
    "In programming terms, putting items in the queue is called enqueue, and removing items from the queue is called dequeue."
   ]
  },
  {
   "cell_type": "code",
   "execution_count": null,
   "metadata": {},
   "outputs": [],
   "source": []
  },
  {
   "attachments": {},
   "cell_type": "markdown",
   "metadata": {},
   "source": [
    "## Adding Elements \n",
    "\n",
    "In the below example we create a queue class where we implement the first-in-first-Out method. We use the in-build insert method for adding data elements."
   ]
  },
  {
   "cell_type": "code",
   "execution_count": 1,
   "metadata": {},
   "outputs": [
    {
     "name": "stdout",
     "output_type": "stream",
     "text": [
      "4\n"
     ]
    }
   ],
   "source": [
    "\n",
    "class Queue:\n",
    "    def __init__(self):\n",
    "        self.queue = list()\n",
    "\n",
    "    def addtoqueue(self, dataval):\n",
    "    # Insert method to add element \n",
    "        if dataval not in self.queue:\n",
    "            self.queue.insert(0, dataval)\n",
    "            return True \n",
    "        return False\n",
    "    \n",
    "    def size(self):\n",
    "        return len(self.queue)\n",
    "    \n",
    "TheQueue = Queue()\n",
    "# Adding 4 days in a queue\n",
    "TheQueue.addtoqueue(\"Mon\")\n",
    "TheQueue.addtoqueue(\"Tue\")\n",
    "TheQueue.addtoqueue(\"Wed\")\n",
    "TheQueue.addtoqueue(\"Thu\")\n",
    "# Checking the size of a queue\n",
    "print(TheQueue.size())"
   ]
  },
  {
   "attachments": {},
   "cell_type": "markdown",
   "metadata": {},
   "source": [
    "# Removing Element"
   ]
  },
  {
   "cell_type": "markdown",
   "metadata": {},
   "source": [
    "In the below example we create a queue class where we insert the data and\n",
    "then remove the data using the in-built method"
   ]
  },
  {
   "cell_type": "code",
   "execution_count": 2,
   "metadata": {},
   "outputs": [
    {
     "data": {
      "text/plain": [
       "True"
      ]
     },
     "execution_count": 2,
     "metadata": {},
     "output_type": "execute_result"
    }
   ],
   "source": [
    "class Queue:\n",
    "    def __init__(self):\n",
    "        self.queue = list()\n",
    "    \n",
    "    def addtoqueue(self, dataval):\n",
    "    # insert method to add element\n",
    "        if dataval not in self.queue:\n",
    "            self.queue.insert(0, dataval)\n",
    "            return True \n",
    "        return (\"No elements in Queue\")\n",
    "    \n",
    "    # pop method to remove element\n",
    "    def removefromqueue(self):\n",
    "        if len(self.queue)>0:\n",
    "            return self.queue.pop()\n",
    "        return (\"No elements in Queue!\")\n",
    "    \n",
    "TheQueue = Queue()\n",
    "\n",
    "# adding days to queue\n",
    "TheQueue.addtoqueue(\"Mon\")\n",
    "TheQueue.addtoqueue(\"Tue\")\n",
    "TheQueue.addtoqueue(\"Wed\")\n",
    "TheQueue.addtoqueue(\"Thu\")\n",
    "    "
   ]
  },
  {
   "cell_type": "code",
   "execution_count": 3,
   "metadata": {},
   "outputs": [],
   "source": [
    "# removing days from Queue"
   ]
  },
  {
   "cell_type": "code",
   "execution_count": 3,
   "metadata": {},
   "outputs": [
    {
     "data": {
      "text/plain": [
       "'Mon'"
      ]
     },
     "execution_count": 3,
     "metadata": {},
     "output_type": "execute_result"
    }
   ],
   "source": [
    "TheQueue.removefromqueue()"
   ]
  },
  {
   "cell_type": "code",
   "execution_count": 4,
   "metadata": {},
   "outputs": [
    {
     "data": {
      "text/plain": [
       "'Tue'"
      ]
     },
     "execution_count": 4,
     "metadata": {},
     "output_type": "execute_result"
    }
   ],
   "source": [
    "TheQueue.removefromqueue()"
   ]
  },
  {
   "cell_type": "code",
   "execution_count": 5,
   "metadata": {},
   "outputs": [
    {
     "data": {
      "text/plain": [
       "['Thu', 'Wed']"
      ]
     },
     "execution_count": 5,
     "metadata": {},
     "output_type": "execute_result"
    }
   ],
   "source": [
    "# remaining days in a queue\n",
    "TheQueue.queue"
   ]
  },
  {
   "cell_type": "code",
   "execution_count": 6,
   "metadata": {},
   "outputs": [
    {
     "name": "stdout",
     "output_type": "stream",
     "text": [
      "Not Empty queue\n"
     ]
    }
   ],
   "source": [
    "if len(TheQueue.queue)==0:\n",
    "    print('Empty queue')\n",
    "else:\n",
    "    print(\"Not Empty queue\")"
   ]
  },
  {
   "cell_type": "code",
   "execution_count": 7,
   "metadata": {},
   "outputs": [
    {
     "data": {
      "text/plain": [
       "'Thu'"
      ]
     },
     "execution_count": 7,
     "metadata": {},
     "output_type": "execute_result"
    }
   ],
   "source": [
    "TheQueue.removefromqueue()\n",
    "TheQueue.removefromqueue()"
   ]
  },
  {
   "cell_type": "code",
   "execution_count": 8,
   "metadata": {},
   "outputs": [
    {
     "name": "stdout",
     "output_type": "stream",
     "text": [
      "Empty queue\n"
     ]
    }
   ],
   "source": [
    "if len(TheQueue.queue)==0:\n",
    "    print('Empty queue')\n",
    "else:\n",
    "    print(\"Not Empty queue\")"
   ]
  },
  {
   "cell_type": "code",
   "execution_count": 9,
   "metadata": {},
   "outputs": [
    {
     "data": {
      "text/plain": [
       "'/home/rocky/DSA_PPT/assignment'"
      ]
     },
     "execution_count": 9,
     "metadata": {},
     "output_type": "execute_result"
    }
   ],
   "source": [
    "pwd"
   ]
  },
  {
   "cell_type": "code",
   "execution_count": null,
   "metadata": {},
   "outputs": [],
   "source": []
  }
 ],
 "metadata": {
  "kernelspec": {
   "display_name": "Python 3",
   "language": "python",
   "name": "python3"
  },
  "language_info": {
   "codemirror_mode": {
    "name": "ipython",
    "version": 3
   },
   "file_extension": ".py",
   "mimetype": "text/x-python",
   "name": "python",
   "nbconvert_exporter": "python",
   "pygments_lexer": "ipython3",
   "version": "3.10.6"
  },
  "orig_nbformat": 4
 },
 "nbformat": 4,
 "nbformat_minor": 2
}
