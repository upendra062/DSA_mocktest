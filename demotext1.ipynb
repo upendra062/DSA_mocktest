{
 "cells": [
  {
   "cell_type": "code",
   "execution_count": null,
   "metadata": {},
   "outputs": [],
   "source": [
    "# Definition for singly-linked list.\n",
    "from typing import Optional\n",
    "class ListNode:\n",
    "    def __init__(self, val=0, next=None):\n",
    "        self.val = val\n",
    "        self.next = next\n",
    "class Solution:\n",
    "    def addTwoNumbers(self, l1: Optional[ListNode], l2: Optional[ListNode]) -> Optional[ListNode]:\n",
    "        dummy = ListNode()\n",
    "        carry, curr = 0, dummy\n",
    "        while l1 or l2 or carry:\n",
    "            s = (l1.val if l1 else 0) + (l2.val if l2 else 0) + carry\n",
    "            carry, val = divmod(s, 10)\n",
    "            curr.next = ListNode(val)\n",
    "            curr = curr.next\n",
    "            l1 = l1.next if l1 else None\n",
    "            l2 = l2.next if l2 else None\n",
    "        return dummy.next\n",
    "l1 = [2,4,3]\n",
    "l2 = [5,6,4] \n",
    "\n",
    "# Output: [7,0,8] \n",
    "# Explanation: 342 + 465 = 807\n",
    "ob = Solution()\n",
    "ob.addTwoNumbers(l1,l2)"
   ]
  },
  {
   "cell_type": "code",
   "execution_count": null,
   "metadata": {},
   "outputs": [],
   "source": [
    "def addTwoNumbers(l1: ListNode, l2: ListNode) -> ListNode:\n",
    "    # Head of the new linked list - this is the head of the resultant list\n",
    "    head = None\n",
    "    # Reference of head which is null at this point\n",
    "    temp = None\n",
    "    # Carry\n",
    "    carry = 0\n",
    "    # Loop for the two lists\n",
    "    while l1 is not None or l2 is not None:\n",
    "        # At the start of each iteration, we should add carry from the last iteration\n",
    "        sum_value = carry\n",
    "        # Since the lengths of the lists may be unequal, we are checking if the\n",
    "        # current node is null for one of the lists\n",
    "        if l1 is not None:\n",
    "            sum_value += l1.val\n",
    "            l1 = l1.next\n",
    "        if l2 is not None:\n",
    "            sum_value += l2.val\n",
    "            l2 = l2.next\n",
    "        # At this point, we will add the total sum_value % 10 to the new node\n",
    "        # in the resultant list\n",
    "        node = ListNode(sum_value % 10)\n",
    "        # Carry to be added in the next iteration\n",
    "        carry = sum_value // 10\n",
    "        # If this is the first node or head\n",
    "        if temp is None:\n",
    "            temp = head = node\n",
    "        # for any other node\n",
    "        else:\n",
    "            temp.next = node\n",
    "            temp = temp.next\n",
    "    # After the last iteration, we will check if there is carry left\n",
    "    # If it's left then we will create a new node and add it\n",
    "    if carry > 0:\n",
    "        temp.next = ListNode(carry)\n",
    "    return head"
   ]
  }
 ],
 "metadata": {
  "kernelspec": {
   "display_name": "Python 3",
   "language": "python",
   "name": "python3"
  },
  "language_info": {
   "codemirror_mode": {
    "name": "ipython",
    "version": 3
   },
   "file_extension": ".py",
   "mimetype": "text/x-python",
   "name": "python",
   "nbconvert_exporter": "python",
   "pygments_lexer": "ipython3",
   "version": "3.10.6"
  },
  "orig_nbformat": 4
 },
 "nbformat": 4,
 "nbformat_minor": 2
}
