{
 "cells": [
  {
   "cell_type": "code",
   "execution_count": 6,
   "metadata": {},
   "outputs": [
    {
     "name": "stdout",
     "output_type": "stream",
     "text": [
      "2\n"
     ]
    }
   ],
   "source": [
    "# Given a non-negative integer x, return the \n",
    "# square root of x rounded down to the nearest \n",
    "# integer. The returned integer should be \n",
    "# non-negative as well. You must not use any \n",
    "# built-in exponent function or operator. \n",
    "\n",
    "#  Example 1:\n",
    "# Input: x = 4 Output: 2 \n",
    "\n",
    "# Explanation: \n",
    "# The square root of 4 is 2, \n",
    "# so we return 2.\n",
    "# Example 2:\n",
    "# Input: x = 8 \n",
    "# Output: 2 \n",
    "# Explanation: The square root of \n",
    "# 8 is 2.82842..., and since we round it\n",
    "# down to the nearest integer, 2 is returned.\n",
    "\n",
    "# Constraints:\n",
    "# 0 <= x <= 2^31 - 1\n"
   ]
  },
  {
   "cell_type": "code",
   "execution_count": 7,
   "metadata": {},
   "outputs": [
    {
     "name": "stdout",
     "output_type": "stream",
     "text": [
      "2\n"
     ]
    }
   ],
   "source": [
    "import math\n",
    "\n",
    "def square_root(num):\n",
    "    # checking if values b/n 0 and 2**31-1\n",
    "    if num>=0 and num<=2**31-1:\n",
    "        # eleminating decimal values\n",
    "        return math.trunc(math.sqrt(num))\n",
    "    else:\n",
    "        return \"write values b/n 0 and 2**31-1\"\n",
    "    \n",
    "print(square_root(8))"
   ]
  },
  {
   "cell_type": "code",
   "execution_count": 8,
   "metadata": {},
   "outputs": [
    {
     "data": {
      "text/plain": [
       "'/home/rocky/DSA_PPT/assignment'"
      ]
     },
     "execution_count": 8,
     "metadata": {},
     "output_type": "execute_result"
    }
   ],
   "source": [
    "pwd"
   ]
  },
  {
   "cell_type": "code",
   "execution_count": null,
   "metadata": {},
   "outputs": [],
   "source": []
  }
 ],
 "metadata": {
  "kernelspec": {
   "display_name": "Python 3",
   "language": "python",
   "name": "python3"
  },
  "language_info": {
   "codemirror_mode": {
    "name": "ipython",
    "version": 3
   },
   "file_extension": ".py",
   "mimetype": "text/x-python",
   "name": "python",
   "nbconvert_exporter": "python",
   "pygments_lexer": "ipython3",
   "version": "3.10.6"
  },
  "orig_nbformat": 4
 },
 "nbformat": 4,
 "nbformat_minor": 2
}
